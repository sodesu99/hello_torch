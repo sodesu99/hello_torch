{
 "cells": [
  {
   "cell_type": "code",
   "execution_count": 1,
   "metadata": {},
   "outputs": [],
   "source": [
    "\n",
    "# utility.ipynb を実行\n",
    "%run utility.ipynb"
   ]
  },
  {
   "cell_type": "code",
   "execution_count": 2,
   "metadata": {},
   "outputs": [
    {
     "name": "stdout",
     "output_type": "stream",
     "text": [
      "    Open time-5m  Close time-5m   High-5m    Low-5m  Close-5m  \\\n",
      "0  1677628800000  1677629099999  23178.71  23130.25  23178.71   \n",
      "1  1677629100000  1677629399999  23183.13  23118.56  23120.06   \n",
      "2  1677629400000  1677629699999  23171.67  23116.07  23159.91   \n",
      "3  1677629700000  1677629999999  23185.64  23158.02  23183.94   \n",
      "4  1677630000000  1677630299999  23219.99  23172.16  23201.88   \n",
      "\n",
      "   Quote asset volume-5m  Taker buy quote asset volume-5m  \n",
      "0           2.293456e+07                     1.262065e+07  \n",
      "1           1.913970e+07                     8.455532e+06  \n",
      "2           1.987886e+07                     1.038989e+07  \n",
      "3           1.635377e+07                     8.878681e+06  \n",
      "4           2.166983e+07                     1.097325e+07  \n"
     ]
    },
    {
     "data": {
      "text/plain": [
       "0       23178.71\n",
       "1       23120.06\n",
       "2       23159.91\n",
       "3       23183.94\n",
       "4       23201.88\n",
       "          ...   \n",
       "8907    28521.97\n",
       "8908    28470.24\n",
       "8909    28498.99\n",
       "8910    28466.10\n",
       "8911    28465.36\n",
       "Name: Close-5m, Length: 8912, dtype: float64"
      ]
     },
     "execution_count": 2,
     "metadata": {},
     "output_type": "execute_result"
    }
   ],
   "source": [
    "# 读取CSV文件\n",
    "# csv_file = 'BTCUSDT-5m-2023-03.csv'\n",
    "\n",
    "stock_data = read_csv(symbol_name='BTCUSDT',  day='2023-03', interv='5m')\n",
    "\n",
    "# 显示前几行数据\n",
    "print(stock_data.head())\n",
    "\n",
    "close_prices = stock_data['Close-5m']\n",
    "\n",
    "close_prices"
   ]
  },
  {
   "cell_type": "code",
   "execution_count": 3,
   "metadata": {},
   "outputs": [],
   "source": [
    "\n",
    "from sklearn.preprocessing import MinMaxScaler\n",
    "import numpy as np\n",
    "\n",
    "# 规范化数据\n",
    "scaler = MinMaxScaler(feature_range=(0, 1))\n",
    "close_prices = scaler.fit_transform(np.array(close_prices).reshape(-1, 1))\n",
    "\n",
    "# 使用过去100天的数据预测下一天的价格\n",
    "time_step = 100\n",
    "X, y = create_dataset(close_prices, time_step)\n",
    "X = X.reshape(X.shape[0], X.shape[1], 1)\n",
    " "
   ]
  },
  {
   "cell_type": "code",
   "execution_count": 4,
   "metadata": {},
   "outputs": [],
   "source": [
    "import LSTMModel\n",
    "import torch\n",
    "import torch.nn as nn\n",
    "import torch.optim as optim\n",
    "\n",
    "# 初始化模型、损失标准和优化器\n",
    "model = LSTMModel()\n",
    "criterion = nn.MSELoss()\n",
    "optimizer = optim.Adam(model.parameters(), lr=0.001)\n",
    "\n",
    "# 训练模型的代码可以保持不变\n"
   ]
  },
  {
   "cell_type": "code",
   "execution_count": 5,
   "metadata": {},
   "outputs": [],
   "source": [
    "\n",
    "# 训练循环\n",
    "def train_model(X, y, model, criterion, optimizer, epochs=100):\n",
    "    model.train()\n",
    "    for epoch in range(epochs):\n",
    "        for i in range(len(X)):\n",
    "            # 将数据转换为张量\n",
    "            inputs = torch.tensor(X[i:i+1], dtype=torch.float32)\n",
    "            labels = torch.tensor(y[i], dtype=torch.float32)\n",
    "            \n",
    "            # 清零参数梯度\n",
    "            optimizer.zero_grad()\n",
    "            \n",
    "            # 前向 + 反向 + 优化\n",
    "            outputs = model(inputs)\n",
    "            loss = criterion(outputs, labels.unsqueeze(-1))\n",
    "            loss.backward()\n",
    "            optimizer.step()\n",
    "            \n",
    "            if i % 100 == 0:\n",
    "                print(f'Epoch {epoch+1}, Step {i}, Loss: {loss.item()}')"
   ]
  },
  {
   "cell_type": "code",
   "execution_count": null,
   "metadata": {},
   "outputs": [],
   "source": [
    "# 示例调用训练函数\n",
    "# 假设 X_train 和 y_train 是你的数据集，准备方式类似于你的 Keras 代码\n",
    "train_model(X, y, model, criterion, optimizer)"
   ]
  },
  {
   "cell_type": "code",
   "execution_count": null,
   "metadata": {},
   "outputs": [],
   "source": [
    "# 假设 `model` 是你的 PyTorch 模型实例\n",
    "torch.save(model.state_dict(), 'model_state.pth')\n"
   ]
  }
 ],
 "metadata": {
  "kernelspec": {
   "display_name": "base",
   "language": "python",
   "name": "python3"
  },
  "language_info": {
   "codemirror_mode": {
    "name": "ipython",
    "version": 3
   },
   "file_extension": ".py",
   "mimetype": "text/x-python",
   "name": "python",
   "nbconvert_exporter": "python",
   "pygments_lexer": "ipython3",
   "version": "3.9.18"
  }
 },
 "nbformat": 4,
 "nbformat_minor": 2
}
