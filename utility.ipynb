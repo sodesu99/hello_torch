{
 "cells": [
  {
   "cell_type": "code",
   "execution_count": null,
   "metadata": {},
   "outputs": [],
   "source": [
    "import pandas as pd\n",
    "def read_csv(symbol_name='BTCUSDT',  day='2023-01', interv='1mo'):\n",
    "    column_names = ['Open time', 'Open', 'High', 'Low', 'Close', 'Volume', 'Close time', 'Quote asset volume', 'Number of trades', 'Taker buy base asset volume', 'Taker buy quote asset volume', 'Ignore']\n",
    "    filename = f'data/{symbol_name}-{interv}-{day}.csv'\n",
    "    df = pd.read_csv(filename, names=column_names)\n",
    "    selected_columns = df[[\"Open time\", \"Close time\", \"High\", \"Low\", \"Close\", \"Quote asset volume\", \"Taker buy quote asset volume\"]]\n",
    "\n",
    "    selected_columns.columns = [f'Open time-{interv}', f'Close time-{interv}', f'High-{interv}', f'Low-{interv}', f'Close-{interv}', f'Quote asset volume-{interv}', f'Taker buy quote asset volume-{interv}' ]\n",
    "    return selected_columns\n"
   ]
  },
  {
   "cell_type": "markdown",
   "metadata": {},
   "source": [
    "这段代码是一个函数，用于从时间序列数据中创建输入特征集和对应的标签集，通常用于训练机器学习模型，特别是在进行时间序列预测时。"
   ]
  },
  {
   "cell_type": "code",
   "execution_count": null,
   "metadata": {},
   "outputs": [],
   "source": [
    "import numpy as np\n",
    "\n",
    "# 定义一个函数来创建基于时间步长的数据集\n",
    "def create_dataset(dataset, time_step=1):\n",
    "    # 初始化两个列表，用于存储输入特征（X）和标签（Y）\n",
    "    dataX, dataY = [], []\n",
    "    \n",
    "    # 循环遍历数据集，根据时间步长创建数据\n",
    "    for i in range(len(dataset)-time_step-1):\n",
    "        # 提取从当前索引开始的`time_step`长度的数据作为一个特征\n",
    "        a = dataset[i:(i+time_step), 0]\n",
    "        dataX.append(a)  # 将特征添加到列表中\n",
    "        \n",
    "        # 提取时间步长后的数据点作为标签\n",
    "        dataY.append(dataset[i + time_step, 0])\n",
    "    \n",
    "    # 将列表转换为NumPy数组，以便于后续的机器学习处理\n",
    "    return np.array(dataX), np.array(dataY)\n"
   ]
  },
  {
   "cell_type": "code",
   "execution_count": null,
   "metadata": {},
   "outputs": [],
   "source": [
    "import numpy as np\n",
    "\n",
    "\n",
    "# 定义一个函数来创建基于时间步长的数据集\n",
    "def create_dataset_features(dataset, time_step=1):\n",
    "    # 初始化两个列表，用于存储输入特征（X）和标签（Y）\n",
    "    dataX, dataY = [], []\n",
    "    \n",
    "    # 循环遍历数据集，根据时间步长创建数据\n",
    "    for i in range(len(dataset)-time_step-1):\n",
    "        # 提取从当前索引开始的`time_step`长度的数据作为一个特征\n",
    "        a = dataset[i:(i+time_step), :]\n",
    "        dataX.append(a)  # 将特征添加到列表中\n",
    "        \n",
    "        # 提取时间步长后的数据点作为标签\n",
    "        dataY.append(dataset[i + time_step, 0])\n",
    "    \n",
    "    # 将列表转换为NumPy数组，以便于后续的机器学习处理\n",
    "    return np.array(dataX), np.array(dataY)\n",
    "\n"
   ]
  },
  {
   "cell_type": "code",
   "execution_count": 3,
   "metadata": {},
   "outputs": [],
   "source": [
    "import numpy as np\n",
    "\n",
    "# 定义一个函数来创建基于时间步长的数据集\n",
    "def create_dataset_features_Y(dataset, time_step=1):\n",
    "    # 初始化两个列表，用于存储输入特征（X）和标签（Y）\n",
    "    dataY = []\n",
    "    \n",
    "    # 循环遍历数据集，根据时间步长创建数据\n",
    "    for i in range(len(dataset)-time_step-1):\n",
    "        # 提取时间步长后的数据点作为标签\n",
    "        dataY.append(dataset[i + time_step, 0])\n",
    "    \n",
    "    # 将列表转换为NumPy数组，以便于后续的机器学习处理\n",
    "    return np.array(dataY)"
   ]
  }
 ],
 "metadata": {
  "kernelspec": {
   "display_name": "base",
   "language": "python",
   "name": "python3"
  },
  "language_info": {
   "codemirror_mode": {
    "name": "ipython",
    "version": 3
   },
   "file_extension": ".py",
   "mimetype": "text/x-python",
   "name": "python",
   "nbconvert_exporter": "python",
   "pygments_lexer": "ipython3",
   "version": "3.9.18"
  }
 },
 "nbformat": 4,
 "nbformat_minor": 2
}
