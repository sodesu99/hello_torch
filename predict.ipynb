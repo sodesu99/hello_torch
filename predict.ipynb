{
 "cells": [
  {
   "cell_type": "code",
   "execution_count": null,
   "metadata": {},
   "outputs": [],
   "source": [
    "\n",
    "# utility.ipynb を実行\n",
    "%run utility.ipynb"
   ]
  },
  {
   "cell_type": "markdown",
   "metadata": {},
   "source": [
    "读取文件"
   ]
  },
  {
   "cell_type": "code",
   "execution_count": null,
   "metadata": {},
   "outputs": [],
   "source": [
    "# 读取CSV文件\n",
    "# csv_file = 'BTCUSDT-5m-2023-04.csv'\n",
    "\n",
    "stock_data = read_csv(symbol_name='BTCUSDT',  day='2023-04', interv='5m')\n",
    "\n",
    "# 显示前几行数据\n",
    "print(stock_data.head())\n",
    "\n",
    "close_prices = stock_data['Close-5m']\n",
    "\n",
    "close_prices"
   ]
  },
  {
   "cell_type": "code",
   "execution_count": null,
   "metadata": {},
   "outputs": [],
   "source": [
    "close_price = close_prices[:150]\n",
    "close_prices = close_price\n",
    "close_prices"
   ]
  },
  {
   "cell_type": "markdown",
   "metadata": {},
   "source": [
    " 创建要进行预测的数据集"
   ]
  },
  {
   "cell_type": "code",
   "execution_count": null,
   "metadata": {},
   "outputs": [],
   "source": [
    "\n",
    "from sklearn.preprocessing import MinMaxScaler\n",
    "import numpy as np\n",
    "\n",
    "# 初始化MinMaxScaler以规范化数据到0和1之间\n",
    "scaler = MinMaxScaler(feature_range=(0, 1))\n",
    "\n",
    "# 将`close_prices`数组转换为NumPy数组，并改变形状以适应scaler的要求。\n",
    "# 这里`reshape(-1, 1)`表示将数据转换为一列，行数自动计算。\n",
    "# 将 close_prices 转换为一个二维数组，每行一个数据点，因为 MinMaxScaler 需要二维输入。\n",
    "close_prices = scaler.fit_transform(np.array(close_prices).reshape(-1, 1))\n",
    "\n",
    "# 定义时间步长参数，指定使用过去100天的数据来预测下一天的价格\n",
    "time_step = 100\n",
    "\n",
    "# 调用之前定义的`create_dataset`函数来生成输入特征和标签数据集\n",
    "# `X`将包含特征集，`y`将包含标签集\n",
    "X, y = create_dataset(close_prices, time_step)\n",
    "\n",
    "# 重新调整`X`的形状以适应后续模型的输入要求\n",
    "# 这里`X.shape[0]`是样本数量，`X.shape[1]`是每个样本的时间步数量，最后的`1`表示每个时间步有一个特征\n",
    "X = X.reshape(X.shape[0], X.shape[1], 1)"
   ]
  },
  {
   "cell_type": "code",
   "execution_count": null,
   "metadata": {},
   "outputs": [],
   "source": [
    "X.shape\n",
    "y.shape"
   ]
  },
  {
   "cell_type": "markdown",
   "metadata": {},
   "source": [
    "根据你提供的 X.shape 结果 (1132, 100, 1)，我们可以解释这个三维数组的维度如下：\n",
    "\n",
    "第一维（1132）：这表示生成的特征集 X 包含 1132 个样本。这些样本是从原始数据集中通过滑动窗口方法提取的，每个窗口包含 100 个时间步的数据。\n",
    "第二维（100）：这表示每个样本由 100 个连续时间步组成。在你的案例中，这意味着每个样本包含 100 天的数据。这个数值与你在 create_dataset 函数中设置的 time_step 参数相匹配。\n",
    "第三维（1）：这表示每个时间步只有一个特征。在股价预测的例子中，这个特征通常是股票的收盘价。这个维度是为了满足深度学习模型（如 LSTM）对数据形状的要求。"
   ]
  },
  {
   "cell_type": "markdown",
   "metadata": {},
   "source": [
    "第一步：加载模型\n",
    "在 PyTorch 中，你需要加载模型结构，然后加载状态字典（模型权重），这假设你在训练期间已经保存了模型的状态字典。"
   ]
  },
  {
   "cell_type": "code",
   "execution_count": null,
   "metadata": {},
   "outputs": [],
   "source": [
    "\n",
    "import LSTMModel\n",
    "import torch\n",
    "# 假设模型的状态字典保存在 'model_state.pth'\n",
    "model = LSTMModel()\n",
    "model.load_state_dict(torch.load('model_state.pth'))\n",
    "model.eval()"
   ]
  },
  {
   "cell_type": "markdown",
   "metadata": {},
   "source": [
    "第二步：准备输入"
   ]
  },
  {
   "cell_type": "code",
   "execution_count": null,
   "metadata": {},
   "outputs": [],
   "source": [
    "# 假设你的输入数据在 numpy 数组 'input_data' 中\n",
    "input_tensor = torch.tensor(X, dtype=torch.float32)"
   ]
  },
  {
   "cell_type": "markdown",
   "metadata": {},
   "source": [
    "第三步：进行预测"
   ]
  },
  {
   "cell_type": "code",
   "execution_count": null,
   "metadata": {},
   "outputs": [],
   "source": [
    "# 做出预测\n",
    "# 在 PyTorch 中，通常在进行推断时禁用梯度计算，这可以使推断运行更快。\n",
    "with torch.no_grad():\n",
    "    prediction = model(input_tensor)\n",
    "\n",
    "# 反转预测\n",
    "train_predict = scaler.inverse_transform(prediction)\n",
    "y = scaler.inverse_transform(y.reshape(y.shape[0],1))"
   ]
  },
  {
   "cell_type": "markdown",
   "metadata": {},
   "source": [
    "对每个样本进行预测下一天的股价"
   ]
  },
  {
   "cell_type": "code",
   "execution_count": null,
   "metadata": {},
   "outputs": [],
   "source": [
    "train_predict.shape"
   ]
  },
  {
   "cell_type": "markdown",
   "metadata": {},
   "source": [
    "画图"
   ]
  },
  {
   "cell_type": "code",
   "execution_count": null,
   "metadata": {},
   "outputs": [],
   "source": [
    "import matplotlib.pyplot as plt\n",
    "\n",
    "predicted_data = train_predict\n",
    "actual_data = y \n",
    "\n",
    "\n",
    "# 确保预测数据和实际数据长度一致\n",
    "dates = range(len(actual_data))  # 如果有具体日期可以用具体日期\n",
    "\n",
    "plt.figure(figsize=(10, 5))\n",
    "plt.plot(dates, actual_data, label='Actual Data', color='blue', marker='x')\n",
    "plt.plot(dates, predicted_data, label='Predicted Data', color='red', marker='.')\n",
    "\n",
    "\n",
    "plt.title('Comparison of Actual and Predicted Values')\n",
    "plt.xlabel('Date')\n",
    "plt.ylabel('Stock Price')\n",
    "plt.legend()\n",
    "plt.grid(True)\n",
    "plt.show()\n"
   ]
  },
  {
   "cell_type": "code",
   "execution_count": null,
   "metadata": {},
   "outputs": [],
   "source": []
  },
  {
   "cell_type": "code",
   "execution_count": null,
   "metadata": {},
   "outputs": [],
   "source": [
    "\n",
    "actual_data[:50]\n",
    "predicted_data[:50]"
   ]
  }
 ],
 "metadata": {
  "kernelspec": {
   "display_name": "base",
   "language": "python",
   "name": "python3"
  },
  "language_info": {
   "codemirror_mode": {
    "name": "ipython",
    "version": 3
   },
   "file_extension": ".py",
   "mimetype": "text/x-python",
   "name": "python",
   "nbconvert_exporter": "python",
   "pygments_lexer": "ipython3",
   "version": "3.9.18"
  }
 },
 "nbformat": 4,
 "nbformat_minor": 2
}
